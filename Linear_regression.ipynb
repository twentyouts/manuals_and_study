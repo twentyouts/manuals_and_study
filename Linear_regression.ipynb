{
 "cells": [
  {
   "cell_type": "markdown",
   "metadata": {},
   "source": [
    "# Версия трека V 0.1\n",
    "# Быстрый способ начать работать с линейной регрессией\n",
    "Почему бы не начать знакомиться с методами регрессионного анализа с винишка."
   ]
  },
  {
   "cell_type": "markdown",
   "metadata": {},
   "source": [
    "## Чтобы что?\n",
    "- Попробовать метод на реальных данных\n",
    "- Сформировать понимание, что вместо показателя \"Качество белого вина\" может быть любой признка из вашей рабочей области. Количество продаж, качества изделия, прогулы сотрудников - что угодно."
   ]
  },
  {
   "cell_type": "code",
   "execution_count": 22,
   "metadata": {},
   "outputs": [],
   "source": [
    "import pandas as pd\n",
    "import requests\n",
    "import statsmodels.api as sm\n",
    "import io"
   ]
  },
  {
   "cell_type": "code",
   "execution_count": 4,
   "metadata": {},
   "outputs": [],
   "source": [
    "url = 'https://archive.ics.uci.edu/ml/machine-learning-databases/wine-quality/winequality-white.csv'"
   ]
  },
  {
   "cell_type": "code",
   "execution_count": 17,
   "metadata": {},
   "outputs": [],
   "source": [
    "def load_data(url):\n",
    "    raw_data = requests.get(url).content\n",
    "    frame = pd.read_csv(io.StringIO(raw_data.decode('utf-8')), delimiter=';')\n",
    "    return frame"
   ]
  },
  {
   "cell_type": "code",
   "execution_count": 18,
   "metadata": {},
   "outputs": [],
   "source": [
    "frame = load_data(url)"
   ]
  },
  {
   "cell_type": "markdown",
   "metadata": {},
   "source": [
    "## Экспресс анализ влияния параметров белого вина на субъективную оценку экспертов"
   ]
  },
  {
   "cell_type": "code",
   "execution_count": 45,
   "metadata": {},
   "outputs": [
    {
     "data": {
      "text/html": [
       "<div>\n",
       "<style scoped>\n",
       "    .dataframe tbody tr th:only-of-type {\n",
       "        vertical-align: middle;\n",
       "    }\n",
       "\n",
       "    .dataframe tbody tr th {\n",
       "        vertical-align: top;\n",
       "    }\n",
       "\n",
       "    .dataframe thead th {\n",
       "        text-align: right;\n",
       "    }\n",
       "</style>\n",
       "<table border=\"1\" class=\"dataframe\">\n",
       "  <thead>\n",
       "    <tr style=\"text-align: right;\">\n",
       "      <th></th>\n",
       "      <th>fixed acidity</th>\n",
       "      <th>volatile acidity</th>\n",
       "      <th>citric acid</th>\n",
       "      <th>residual sugar</th>\n",
       "      <th>chlorides</th>\n",
       "      <th>free sulfur dioxide</th>\n",
       "      <th>total sulfur dioxide</th>\n",
       "      <th>density</th>\n",
       "      <th>pH</th>\n",
       "      <th>sulphates</th>\n",
       "      <th>alcohol</th>\n",
       "      <th>quality</th>\n",
       "    </tr>\n",
       "  </thead>\n",
       "  <tbody>\n",
       "    <tr>\n",
       "      <th>0</th>\n",
       "      <td>7.0</td>\n",
       "      <td>0.27</td>\n",
       "      <td>0.36</td>\n",
       "      <td>20.7</td>\n",
       "      <td>0.045</td>\n",
       "      <td>45.0</td>\n",
       "      <td>170.0</td>\n",
       "      <td>1.0010</td>\n",
       "      <td>3.00</td>\n",
       "      <td>0.45</td>\n",
       "      <td>8.8</td>\n",
       "      <td>6</td>\n",
       "    </tr>\n",
       "    <tr>\n",
       "      <th>1</th>\n",
       "      <td>6.3</td>\n",
       "      <td>0.30</td>\n",
       "      <td>0.34</td>\n",
       "      <td>1.6</td>\n",
       "      <td>0.049</td>\n",
       "      <td>14.0</td>\n",
       "      <td>132.0</td>\n",
       "      <td>0.9940</td>\n",
       "      <td>3.30</td>\n",
       "      <td>0.49</td>\n",
       "      <td>9.5</td>\n",
       "      <td>6</td>\n",
       "    </tr>\n",
       "    <tr>\n",
       "      <th>2</th>\n",
       "      <td>8.1</td>\n",
       "      <td>0.28</td>\n",
       "      <td>0.40</td>\n",
       "      <td>6.9</td>\n",
       "      <td>0.050</td>\n",
       "      <td>30.0</td>\n",
       "      <td>97.0</td>\n",
       "      <td>0.9951</td>\n",
       "      <td>3.26</td>\n",
       "      <td>0.44</td>\n",
       "      <td>10.1</td>\n",
       "      <td>6</td>\n",
       "    </tr>\n",
       "  </tbody>\n",
       "</table>\n",
       "</div>"
      ],
      "text/plain": [
       "   fixed acidity  volatile acidity  citric acid  residual sugar  chlorides  \\\n",
       "0            7.0              0.27         0.36            20.7      0.045   \n",
       "1            6.3              0.30         0.34             1.6      0.049   \n",
       "2            8.1              0.28         0.40             6.9      0.050   \n",
       "\n",
       "   free sulfur dioxide  total sulfur dioxide  density    pH  sulphates  \\\n",
       "0                 45.0                 170.0   1.0010  3.00       0.45   \n",
       "1                 14.0                 132.0   0.9940  3.30       0.49   \n",
       "2                 30.0                  97.0   0.9951  3.26       0.44   \n",
       "\n",
       "   alcohol  quality  \n",
       "0      8.8        6  \n",
       "1      9.5        6  \n",
       "2     10.1        6  "
      ]
     },
     "execution_count": 45,
     "metadata": {},
     "output_type": "execute_result"
    }
   ],
   "source": [
    "# посмотрим на набор данных\n",
    "# quality - оценка экспертов\n",
    "# остальное - химические параметры напитка\n",
    "frame.head(3)"
   ]
  },
  {
   "cell_type": "markdown",
   "metadata": {},
   "source": [
    "### Теперь проверим как влияет сахар на оценку экспертов"
   ]
  },
  {
   "cell_type": "code",
   "execution_count": 57,
   "metadata": {},
   "outputs": [],
   "source": [
    "X = frame[['residual sugar']]\n",
    "y = frame['quality']"
   ]
  },
  {
   "cell_type": "code",
   "execution_count": 58,
   "metadata": {},
   "outputs": [
    {
     "name": "stdout",
     "output_type": "stream",
     "text": [
      "                                 OLS Regression Results                                \n",
      "=======================================================================================\n",
      "Dep. Variable:                quality   R-squared (uncentered):                   0.586\n",
      "Model:                            OLS   Adj. R-squared (uncentered):              0.586\n",
      "Method:                 Least Squares   F-statistic:                              6934.\n",
      "Date:                Sat, 07 Mar 2020   Prob (F-statistic):                        0.00\n",
      "Time:                        10:39:10   Log-Likelihood:                         -13520.\n",
      "No. Observations:                4898   AIC:                                  2.704e+04\n",
      "Df Residuals:                    4897   BIC:                                  2.705e+04\n",
      "Df Model:                           1                                                  \n",
      "Covariance Type:            nonrobust                                                  \n",
      "==================================================================================\n",
      "                     coef    std err          t      P>|t|      [0.025      0.975]\n",
      "----------------------------------------------------------------------------------\n",
      "residual sugar     0.5578      0.007     83.273      0.000       0.545       0.571\n",
      "==============================================================================\n",
      "Omnibus:                      786.820   Durbin-Watson:                   1.077\n",
      "Prob(Omnibus):                  0.000   Jarque-Bera (JB):             1873.171\n",
      "Skew:                          -0.911   Prob(JB):                         0.00\n",
      "Kurtosis:                       5.421   Cond. No.                         1.00\n",
      "==============================================================================\n",
      "\n",
      "Warnings:\n",
      "[1] Standard Errors assume that the covariance matrix of the errors is correctly specified.\n"
     ]
    }
   ],
   "source": [
    "#X = sm.add_constant(X) # adding a constant\n",
    "\n",
    "model = sm.OLS(y, X).fit()\n",
    "predictions = model.predict(X) \n",
    "\n",
    "print_model = model.summary()\n",
    "print(print_model)"
   ]
  },
  {
   "cell_type": "markdown",
   "metadata": {},
   "source": [
    "В данном случаем мы не будем углубляться в анализ остатков, ошибку модели, выбросы, нормальность распределения параметров. Сейчас цель освоить базовый инструмент и далее идти по сложному пути."
   ]
  },
  {
   "cell_type": "markdown",
   "metadata": {},
   "source": [
    "### Разберем параметры модели:\n",
    "    - R-squared = 0.58, объясненная дисперсия. Чем ближе к единице, тем лучше наша математическая модель приближает моделируемый объект. В данном случае оценку экспертов.\n",
    "    - coef 0.5578 при параметре residual sugar: на каждую еденицу повышения сахара оценка экспертов повышается на 0.5578\n",
    "    - P>|t| это p-value. В данном случае возьмем за константу, что если параметр выше 0.05, значит этот параметр не влияет на изменение целевой переменной и использовать его в модели нельзя."
   ]
  },
  {
   "cell_type": "markdown",
   "metadata": {},
   "source": [
    "### Пример два\n",
    "Добавим в модель fixed acidity и проведем повторное обучение модели"
   ]
  },
  {
   "cell_type": "code",
   "execution_count": 63,
   "metadata": {},
   "outputs": [],
   "source": [
    "X = frame[['residual sugar','fixed acidity']]\n",
    "y = frame['quality']"
   ]
  },
  {
   "cell_type": "code",
   "execution_count": 64,
   "metadata": {},
   "outputs": [
    {
     "name": "stdout",
     "output_type": "stream",
     "text": [
      "                                 OLS Regression Results                                \n",
      "=======================================================================================\n",
      "Dep. Variable:                quality   R-squared (uncentered):                   0.959\n",
      "Model:                            OLS   Adj. R-squared (uncentered):              0.959\n",
      "Method:                 Least Squares   F-statistic:                          5.751e+04\n",
      "Date:                Sat, 07 Mar 2020   Prob (F-statistic):                        0.00\n",
      "Time:                        10:55:07   Log-Likelihood:                         -7847.5\n",
      "No. Observations:                4898   AIC:                                  1.570e+04\n",
      "Df Residuals:                    4896   BIC:                                  1.571e+04\n",
      "Df Model:                           2                                                  \n",
      "Covariance Type:            nonrobust                                                  \n",
      "==================================================================================\n",
      "                     coef    std err          t      P>|t|      [0.025      0.975]\n",
      "----------------------------------------------------------------------------------\n",
      "residual sugar    -0.0047      0.003     -1.388      0.165      -0.011       0.002\n",
      "fixed acidity      0.8473      0.004    211.511      0.000       0.839       0.855\n",
      "==============================================================================\n",
      "Omnibus:                      127.195   Durbin-Watson:                   1.563\n",
      "Prob(Omnibus):                  0.000   Jarque-Bera (JB):              213.829\n",
      "Skew:                          -0.230   Prob(JB):                     3.70e-47\n",
      "Kurtosis:                       3.914   Cond. No.                         2.93\n",
      "==============================================================================\n",
      "\n",
      "Warnings:\n",
      "[1] Standard Errors assume that the covariance matrix of the errors is correctly specified.\n"
     ]
    }
   ],
   "source": [
    "model = sm.OLS(y, X).fit()\n",
    "predictions = model.predict(X) \n",
    "\n",
    "print_model = model.summary()\n",
    "print(print_model)"
   ]
  },
  {
   "cell_type": "markdown",
   "metadata": {},
   "source": [
    "### Разберем параметры модели:\n",
    "Добавили fixed acidity - получили неожиданный для нас результат. \n",
    "- При наличии параметра fixed acidity, residual sugar становится не значимым P>|t| > 0.05\n",
    "- Если обратить внимание на распределение то левый ховст 0.025 соответсвует -0.011, верхняя же граница 0.975 соответсвтует 0.002. То есть может принимать как отрицательные, так и положительное значение.\n",
    "\n",
    "Что произошло?\n",
    "- Добавление признака изменило модель. \n",
    "\n",
    "Что делать?\n",
    "- Т.к. мы сейчас разбираемся с регрессией на бытовом уровне дальше необходимо вручную перебрать признаки и оставить те, которые вносят вклад в модель."
   ]
  },
  {
   "cell_type": "markdown",
   "metadata": {},
   "source": [
    "## Самостоятельная работа\n",
    "С помощью метода backword elimination( добавляем все признаки в модель, затем последовательно исключаем те, параметры которых нас не устраивают).\n",
    "\n",
    "Есть библиотеки на выбор признаков, но, пока вручную. После сами разберетесь и нагруглите.\n",
    "\n",
    "Шаг 1 - добавляем все признаки. Смотрим итог работы модели.\n",
    "Шаг 2 - на основе summary модели исключаем один признак и снова повторяем шаг 1.\n"
   ]
  },
  {
   "cell_type": "code",
   "execution_count": 69,
   "metadata": {},
   "outputs": [
    {
     "data": {
      "text/plain": [
       "Index(['fixed acidity', 'volatile acidity', 'citric acid', 'residual sugar',\n",
       "       'chlorides', 'free sulfur dioxide', 'total sulfur dioxide', 'density',\n",
       "       'pH', 'sulphates', 'alcohol', 'quality'],\n",
       "      dtype='object')"
      ]
     },
     "execution_count": 69,
     "metadata": {},
     "output_type": "execute_result"
    }
   ],
   "source": [
    "# Как вывести все назвния колонок?\n",
    "frame.columns"
   ]
  }
 ],
 "metadata": {
  "kernelspec": {
   "display_name": "Python 3",
   "language": "python",
   "name": "python3"
  },
  "language_info": {
   "codemirror_mode": {
    "name": "ipython",
    "version": 3
   },
   "file_extension": ".py",
   "mimetype": "text/x-python",
   "name": "python",
   "nbconvert_exporter": "python",
   "pygments_lexer": "ipython3",
   "version": "3.7.4"
  }
 },
 "nbformat": 4,
 "nbformat_minor": 2
}
